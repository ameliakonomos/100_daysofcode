{
 "cells": [
  {
   "cell_type": "code",
   "execution_count": 5,
   "id": "502d8675",
   "metadata": {},
   "outputs": [
    {
     "name": "stdout",
     "output_type": "stream",
     "text": [
      "pinnapple\n",
      "pinnapple Pie\n",
      "peach\n",
      "peach Pie\n",
      "pear\n",
      "pear Pie\n",
      "apple\n",
      "apple Pie\n",
      "dragon fruit\n",
      "dragon fruit Pie\n",
      "['pinnapple', 'peach', 'pear', 'apple', 'dragon fruit']\n"
     ]
    }
   ],
   "source": [
    "#for loops with python lists\n",
    "#executes same line of code, in this case print, multiple times\n",
    "fruits = [\"pinnapple\", \"peach\", \"pear\", \"apple\", \"dragon fruit\"]\n",
    "for fruit in fruits:\n",
    "    print(fruit)\n",
    "    print(fruit + \" Pie\")\n",
    "print(fruits) #prints after for loop is done and only once"
   ]
  },
  {
   "cell_type": "code",
   "execution_count": 2,
   "id": "126188a5",
   "metadata": {},
   "outputs": [
    {
     "name": "stdout",
     "output_type": "stream",
     "text": [
      "Input a list of student heights 100 200\n",
      "The total height is 300\n",
      "The number of students is 2\n",
      "The average height is 150.0\n"
     ]
    }
   ],
   "source": [
    "#average height exercise\n",
    "student_heights = input(\"Input a list of student heights \").split() #splits height list\n",
    "#for loop to add student heights\n",
    "studentheight_int = [int(i) for i in student_heights] #change string list to int\n",
    "\n",
    "#add every numerical value in the list\n",
    "total_height = 0\n",
    "num_ofstudents = 0\n",
    "for i in studentheight_int:\n",
    "    total_height += i #adds previous values in student heights to total heights\n",
    "#     total_height = total_height + i\n",
    "print(f\"The total height is {total_height}\")\n",
    "\n",
    "#count how many entries are in the list\n",
    "for n in studentheight_int:\n",
    "    num_ofstudents += 1 #adds 1 for every entry gives length of list\n",
    "print(f\"The number of students is {num_ofstudents}\")\n",
    "\n",
    "average = total_height / num_ofstudents\n",
    "print(f\"The average height is {average}\")\n"
   ]
  },
  {
   "cell_type": "code",
   "execution_count": 5,
   "id": "56fd5be2",
   "metadata": {},
   "outputs": [
    {
     "name": "stdout",
     "output_type": "stream",
     "text": [
      "Input a list of student scores 100 200 300 100 500\n",
      "The highest score in the class is 500\n"
     ]
    }
   ],
   "source": [
    "#highest score calculator\n",
    "student_scores = input(\"Input a list of student scores \").split()\n",
    "for n in range(0, len(student_scores)):\n",
    "    student_scores[n] = int(student_scores[n])\n",
    "    \n",
    "highest_score = 0\n",
    "\n",
    "#max function inputs a list and outputs max value, dont use this\n",
    "for score in student_scores: #look into each value in score list\n",
    "    if score > highest_score: #check if each value is greater than 0\n",
    "        highest_score = score #replaces 0 with the next highest value until reaches maximum\n",
    "\n",
    "print(f\"The highest score in the class is {highest_score}\")\n",
    "    "
   ]
  },
  {
   "cell_type": "code",
   "execution_count": 9,
   "id": "e71e0145",
   "metadata": {},
   "outputs": [
    {
     "name": "stdout",
     "output_type": "stream",
     "text": [
      "1\n",
      "2\n",
      "3\n",
      "4\n",
      "5\n",
      "6\n",
      "7\n",
      "8\n",
      "9\n",
      "10\n"
     ]
    }
   ],
   "source": [
    "#range function\n",
    "for num in range(1, 101): #(start, end, step size)\n",
    "    print(num)"
   ]
  },
  {
   "cell_type": "code",
   "execution_count": 11,
   "id": "459a573b",
   "metadata": {},
   "outputs": [
    {
     "name": "stdout",
     "output_type": "stream",
     "text": [
      "5050\n"
     ]
    }
   ],
   "source": [
    "total = 0\n",
    "for num in range(1, 101): #(start, end, step size)\n",
    "    total += num\n",
    "print(total)"
   ]
  },
  {
   "cell_type": "code",
   "execution_count": 16,
   "id": "7c68ba8f",
   "metadata": {},
   "outputs": [
    {
     "name": "stdout",
     "output_type": "stream",
     "text": [
      "2550\n"
     ]
    }
   ],
   "source": [
    "#adding evens exercise \n",
    "total_num = 0\n",
    "for num in range(1,101): #create list of numbers of 100\n",
    "    if num % 2 == 0: #check that the number is even\n",
    "        total_num += num #add all even numbers to total starting from 0\n",
    "\n",
    "print(total_num)"
   ]
  },
  {
   "cell_type": "code",
   "execution_count": 17,
   "id": "cd1aa993",
   "metadata": {},
   "outputs": [
    {
     "name": "stdout",
     "output_type": "stream",
     "text": [
      "fizz\n",
      "buzz\n",
      "fizz\n",
      "fizz\n",
      "buzz\n",
      "fizz\n",
      "Fizzbuzz\n",
      "fizz\n",
      "buzz\n",
      "fizz\n",
      "fizz\n",
      "buzz\n",
      "fizz\n",
      "Fizzbuzz\n",
      "fizz\n",
      "buzz\n",
      "fizz\n",
      "fizz\n",
      "buzz\n",
      "fizz\n",
      "Fizzbuzz\n",
      "fizz\n",
      "buzz\n",
      "fizz\n",
      "fizz\n",
      "buzz\n",
      "fizz\n",
      "Fizzbuzz\n",
      "fizz\n",
      "buzz\n",
      "fizz\n",
      "fizz\n",
      "buzz\n",
      "fizz\n",
      "Fizzbuzz\n",
      "fizz\n",
      "buzz\n",
      "fizz\n",
      "fizz\n",
      "buzz\n",
      "fizz\n",
      "Fizzbuzz\n",
      "fizz\n",
      "buzz\n",
      "fizz\n",
      "fizz\n",
      "buzz\n"
     ]
    }
   ],
   "source": [
    "#hackerrank exercise\n",
    "#if numbers divisible by 3 say fizz\n",
    "#by 5 say buzz\n",
    "#by both say fizzbuzz\n",
    "total_num = 0\n",
    "for num in range(1,101): #create list of numbers of 100\n",
    "    if num%3 == 0 and num%5 == 0:\n",
    "        print(\"Fizzbuzz\")\n",
    "    elif num% 3 == 0:\n",
    "        print(\"fizz\")\n",
    "    elif num%5 == 0:\n",
    "        print(\"buzz\")\n",
    "    else:\n",
    "        print\n"
   ]
  },
  {
   "cell_type": "code",
   "execution_count": null,
   "id": "c2e1034a",
   "metadata": {},
   "outputs": [],
   "source": []
  },
  {
   "cell_type": "code",
   "execution_count": null,
   "id": "9b060054",
   "metadata": {},
   "outputs": [],
   "source": []
  },
  {
   "cell_type": "code",
   "execution_count": null,
   "id": "d81505db",
   "metadata": {},
   "outputs": [],
   "source": []
  },
  {
   "cell_type": "code",
   "execution_count": null,
   "id": "ddba0b82",
   "metadata": {},
   "outputs": [],
   "source": []
  },
  {
   "cell_type": "code",
   "execution_count": null,
   "id": "828eb6a5",
   "metadata": {},
   "outputs": [],
   "source": []
  },
  {
   "cell_type": "code",
   "execution_count": null,
   "id": "7c4e071e",
   "metadata": {},
   "outputs": [],
   "source": []
  },
  {
   "cell_type": "code",
   "execution_count": null,
   "id": "56ea5455",
   "metadata": {},
   "outputs": [],
   "source": []
  },
  {
   "cell_type": "code",
   "execution_count": null,
   "id": "6e9f62b3",
   "metadata": {},
   "outputs": [],
   "source": [
    "\n",
    "\n",
    "\n",
    "\n",
    "\n",
    "\n",
    "\n",
    "\n",
    "\n",
    "\n",
    "\n",
    "\n",
    "\n",
    "\n",
    "\n",
    "\n",
    "\n",
    "\n",
    "\n",
    "\n",
    "\n",
    "\n",
    "\n",
    "\n",
    "\n",
    "\n",
    "\n",
    "\n",
    "\n",
    "\n",
    "\n",
    "\n",
    "\n"
   ]
  }
 ],
 "metadata": {
  "kernelspec": {
   "display_name": "Python 3 (ipykernel)",
   "language": "python",
   "name": "python3"
  },
  "language_info": {
   "codemirror_mode": {
    "name": "ipython",
    "version": 3
   },
   "file_extension": ".py",
   "mimetype": "text/x-python",
   "name": "python",
   "nbconvert_exporter": "python",
   "pygments_lexer": "ipython3",
   "version": "3.10.5"
  }
 },
 "nbformat": 4,
 "nbformat_minor": 5
}

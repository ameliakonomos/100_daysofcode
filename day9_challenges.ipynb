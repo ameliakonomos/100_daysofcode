{
 "cells": [
  {
   "cell_type": "code",
   "execution_count": 9,
   "id": "665922c6",
   "metadata": {},
   "outputs": [
    {
     "name": "stdout",
     "output_type": "stream",
     "text": [
      "An error in a program that prevents the program from running as expected.\n",
      "{'Bug': 'An error in a program that prevents the program from running as expected.', 'Function': 'A piece of code that you can easily call over and over again.', 'Loop': 'this is my new entry'}\n",
      "Bug\n",
      "An error in a program that prevents the program from running as expected.\n",
      "Function\n",
      "A piece of code that you can easily call over and over again.\n",
      "Loop\n",
      "this is my new entry\n"
     ]
    }
   ],
   "source": [
    "#dictionary syntax\n",
    "#key = chapter within dictionary \n",
    "programming_dictionary={} #empty dictionary\n",
    "programming_dictionary = {\n",
    "    \"Bug\": \"An error in a program that prevents the program from running as expected.\", \n",
    "    \"Function\": \"A piece of code that you can easily call over and over again.\",\n",
    "}\n",
    "\n",
    "print(programming_dictionary[\"Bug\"])\n",
    "programming_dictionary[\"Loop\"] = \"this is my new entry\"\n",
    "print(programming_dictionary)\n",
    "\n",
    "#loop through dictonary\n",
    "for key in programming_dictionary:\n",
    "    print(key) #access key\n",
    "    print(programming_dictionary[key]) #access value"
   ]
  },
  {
   "cell_type": "code",
   "execution_count": 15,
   "id": "4ebaf4cd",
   "metadata": {},
   "outputs": [
    {
     "name": "stdout",
     "output_type": "stream",
     "text": [
      "{'Ron': 'Acceptable', 'Hermione': 'Outstanding', 'Draco': 'Acceptable', 'Neville': 'Fail'}\n"
     ]
    }
   ],
   "source": [
    "#grading program exercise \n",
    "student_scores = {\n",
    "  \"Harry\": 81,\n",
    "  \"Ron\": 78,\n",
    "  \"Hermione\": 99, \n",
    "  \"Draco\": 74,\n",
    "  \"Neville\": 62,\n",
    "}\n",
    "\n",
    "#TODO-1: Create an empty dictionary called student_grades.\n",
    "student_grades = {}\n",
    "for student in student_scores:\n",
    "    score = student_scores[student]\n",
    "    if score > 90:\n",
    "        student_grades[student] = \"Outstanding\"\n",
    "    elif score > 81 and score < 90:\n",
    "        student_grades[student] = \"Exceeds Expectations\"\n",
    "    elif score > 71 and score < 80:\n",
    "        student_grades[student] = \"Acceptable\"\n",
    "    elif score <= 70:\n",
    "        student_grades[student] = \"Fail\"\n",
    "\n",
    "print(student_grades)"
   ]
  },
  {
   "cell_type": "code",
   "execution_count": 24,
   "id": "4a3e2005",
   "metadata": {},
   "outputs": [],
   "source": [
    "#nesting\n",
    "#each key can only have one value\n",
    "\n",
    "#nest a dictionary in a dictionary\n",
    "travel_log = {\n",
    "    \"Turkey\": {\"cities_visited\":[\"Fetiye\", \"Istanbul\", \"Cappadocia\"], \"total_visits\": 1},#key is a string, value here is a list\n",
    "    \"Greece\": {\"cities_visited\":[\"Athens\", \"Thessaloniki\", \"Aegina\", \"Santorini\"], \n",
    "               \"total_visits\": 1},\n",
    "}"
   ]
  },
  {
   "cell_type": "code",
   "execution_count": 26,
   "id": "cedf9ed2",
   "metadata": {},
   "outputs": [],
   "source": [
    "#nest a dictionary in a list\n",
    "#turkey/greece  is its own key value pair\n",
    "travel_log = [\n",
    "    \n",
    "    {\"country\": \"Turkey\",\n",
    "     \"cities_visited\":[\"Fetiye\", \"Istanbul\", \"Cappadocia\"],\n",
    "     \"total_visits\": 1#key is a string, value here is a list\n",
    "    },\n",
    "    \n",
    "    {\"country\": \"Greece\",\n",
    "     \"cities_visited\":[\"Athens\", \"Thessaloniki\", \"Aegina\", \"Santorini\"], \n",
    "     \"total_visits\": 1\n",
    "    },\n",
    "]"
   ]
  },
  {
   "cell_type": "code",
   "execution_count": 29,
   "id": "a22422e7",
   "metadata": {},
   "outputs": [
    {
     "name": "stdout",
     "output_type": "stream",
     "text": [
      "[{'country': 'France', 'visits': 12, 'cities': ['Paris', 'Lille', 'Dijon']}, {'country': 'Germany', 'visits': 5, 'cities': ['Berlin', 'Hamburg', 'Stuttgart']}, {'country': 'Greece', 'visits': 2, 'cities': ['Mykonos', 'Chania']}]\n"
     ]
    }
   ],
   "source": [
    "#dictionary in list \n",
    "#each entry in travel_log is a dictionary so 2 dictionaries within the travel_log list\n",
    "travel_log = [\n",
    "{\n",
    "  \"country\": \"France\",\n",
    "  \"visits\": 12,\n",
    "  \"cities\": [\"Paris\", \"Lille\", \"Dijon\"]\n",
    "},\n",
    "{\n",
    "  \"country\": \"Germany\",\n",
    "  \"visits\": 5,\n",
    "  \"cities\": [\"Berlin\", \"Hamburg\", \"Stuttgart\"]\n",
    "},\n",
    "]\n",
    "\n",
    "def add_new_country(country_visited, times_visited, cities_visited):\n",
    "    new_country = {}\n",
    "    new_country[\"country\"] = country_visited\n",
    "    new_country[\"visits\"] = times_visited\n",
    "    new_country[\"cities\"] = cities_visited\n",
    "    travel_log.append(new_country) #append new dictionary to nested list\n",
    "\n",
    "add_new_country(\"Greece\", 2, [\"Mykonos\", \"Chania\"])\n",
    "print(travel_log)"
   ]
  },
  {
   "cell_type": "code",
   "execution_count": null,
   "id": "48a771c0",
   "metadata": {},
   "outputs": [],
   "source": []
  },
  {
   "cell_type": "code",
   "execution_count": null,
   "id": "d2a924ac",
   "metadata": {},
   "outputs": [],
   "source": [
    "\n",
    "\n",
    "\n",
    "\n",
    "\n",
    "\n",
    "\n",
    "\n",
    "\n",
    "\n",
    "\n",
    "\n",
    "\n",
    "\n",
    "\n",
    "\n",
    "\n",
    "\n",
    "\n",
    "\n",
    "\n",
    "\n",
    "\n",
    "\n",
    "\n",
    "\n",
    "\n",
    "\n",
    "\n",
    "\n"
   ]
  }
 ],
 "metadata": {
  "kernelspec": {
   "display_name": "Python 3 (ipykernel)",
   "language": "python",
   "name": "python3"
  },
  "language_info": {
   "codemirror_mode": {
    "name": "ipython",
    "version": 3
   },
   "file_extension": ".py",
   "mimetype": "text/x-python",
   "name": "python",
   "nbconvert_exporter": "python",
   "pygments_lexer": "ipython3",
   "version": "3.10.5"
  }
 },
 "nbformat": 4,
 "nbformat_minor": 5
}

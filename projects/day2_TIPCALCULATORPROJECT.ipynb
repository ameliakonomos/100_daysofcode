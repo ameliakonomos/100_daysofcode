{
 "cells": [
  {
   "cell_type": "code",
   "execution_count": 3,
   "id": "e4ec1fbd",
   "metadata": {},
   "outputs": [],
   "source": [
    "#data types can be accessed with [i] where i is index starting with 0\n",
    "#subscripting pulls particular number from string"
   ]
  },
  {
   "cell_type": "code",
   "execution_count": 8,
   "id": "2a372ef0",
   "metadata": {},
   "outputs": [
    {
     "name": "stdout",
     "output_type": "stream",
     "text": [
      "<class 'int'>\n",
      "<class 'str'>\n"
     ]
    }
   ],
   "source": [
    "#integer data type = whole number\n",
    "print(type(123)) #initializes as integer\n",
    "print(type(\"123\")) #initializes as string"
   ]
  },
  {
   "cell_type": "code",
   "execution_count": 9,
   "id": "ff3d0aa1",
   "metadata": {},
   "outputs": [
    {
     "name": "stdout",
     "output_type": "stream",
     "text": [
      "<class 'float'>\n"
     ]
    }
   ],
   "source": [
    "#float = floating point number is a fancy word for numbers with decimals\n",
    "print(type(123.2))"
   ]
  },
  {
   "cell_type": "code",
   "execution_count": 10,
   "id": "655beaa5",
   "metadata": {},
   "outputs": [
    {
     "name": "stdout",
     "output_type": "stream",
     "text": [
      "<class 'bool'>\n"
     ]
    }
   ],
   "source": [
    "#boolean = either True or False\n",
    "print(type(True))"
   ]
  },
  {
   "cell_type": "code",
   "execution_count": 18,
   "id": "d8d0db15",
   "metadata": {},
   "outputs": [
    {
     "name": "stdout",
     "output_type": "stream",
     "text": [
      "We changed the data type from boolean to True which is a string.\n"
     ]
    }
   ],
   "source": [
    "#only concatenate strings not integers\n",
    "newvar = str(True) #convert boolean to string\n",
    "print(\"We changed the data type from boolean to \" + newvar + \" which is a string.\")"
   ]
  },
  {
   "cell_type": "code",
   "execution_count": 22,
   "id": "838d68b8",
   "metadata": {},
   "outputs": [
    {
     "name": "stdout",
     "output_type": "stream",
     "text": [
      "170.5\n"
     ]
    }
   ],
   "source": [
    "print(70 + float(\"100.5\"))\n",
    "#convert string to float and add\n",
    "#str int float converts to that data type"
   ]
  },
  {
   "cell_type": "code",
   "execution_count": 2,
   "id": "69a87641",
   "metadata": {},
   "outputs": [
    {
     "name": "stdout",
     "output_type": "stream",
     "text": [
      "Type a two digit number: 23\n",
      "5\n"
     ]
    }
   ],
   "source": [
    "#add the first and second number of a two digit input\n",
    "two_digit_number = input(\"Type a two digit number: \")\n",
    "####################################\n",
    "\n",
    "a = int(two_digit_number[0]) #access first element and convert string to integer\n",
    "b = int(two_digit_number[1])\n",
    "\n",
    "print(a + b)"
   ]
  },
  {
   "cell_type": "code",
   "execution_count": 7,
   "id": "82a44397",
   "metadata": {},
   "outputs": [
    {
     "name": "stdout",
     "output_type": "stream",
     "text": [
      "300\n",
      "50.0\n",
      "1267650600228229401496703205376\n"
     ]
    }
   ],
   "source": [
    "#+ is a mathematical operator or for string contenation\n",
    "#- is subtraction\n",
    "#multiplication is *\n",
    "print(3*100)\n",
    "\n",
    "#division is /\n",
    "print(100/2) #always is data type float\n",
    "\n",
    "#** is the exponent\n",
    "print(2**100)"
   ]
  },
  {
   "cell_type": "code",
   "execution_count": 3,
   "id": "f5ba40d7",
   "metadata": {},
   "outputs": [
    {
     "name": "stdout",
     "output_type": "stream",
     "text": [
      "enter your height in m: 1.6\n",
      "enter your weight in kg: 47.6\n",
      "Your BMI is\n",
      "18\n"
     ]
    }
   ],
   "source": [
    "#BMI calculator\n",
    "height = input(\"enter your height in m: \") #1.6\n",
    "weight = input(\"enter your weight in kg: \") #47.6 kg\n",
    "\n",
    "height_int = float(height) #convert string to float \n",
    "weight_int = float(weight)\n",
    "\n",
    "bmi = weight_int / height_int**2 #multiplication\n",
    "\n",
    "print(\"Your BMI is\")\n",
    "print(int(bmi)) #convert float to int\n",
    "\n"
   ]
  },
  {
   "cell_type": "code",
   "execution_count": 10,
   "id": "bf037a04",
   "metadata": {},
   "outputs": [
    {
     "name": "stdout",
     "output_type": "stream",
     "text": [
      "0.00162\n",
      "2\n"
     ]
    }
   ],
   "source": [
    "#round numbers\n",
    "print(round(9/5555,6)) #where 6 is the decimal places we round to\n",
    "\n",
    "print(8//3) #// gives integer \n"
   ]
  },
  {
   "cell_type": "code",
   "execution_count": 16,
   "id": "d684dddb",
   "metadata": {},
   "outputs": [
    {
     "name": "stdout",
     "output_type": "stream",
     "text": [
      "Your score is 1, your height is 1.6, you are winning is True\n"
     ]
    }
   ],
   "source": [
    "score = 0 #integer\n",
    "height = 1.6 #float \n",
    "isWinning = True #boolean\n",
    "\n",
    "score += 1 #appends previous value\n",
    "\n",
    "#f String \n",
    "print(f\"Your score is {score}, your height is {height}, you are winning is {isWinning}\") \n",
    "#easier than string contecation\n"
   ]
  },
  {
   "cell_type": "code",
   "execution_count": 1,
   "id": "df3d3fb4",
   "metadata": {},
   "outputs": [
    {
     "name": "stdout",
     "output_type": "stream",
     "text": [
      "Visualize your life in weeks!!\n",
      "What is your current age?21\n",
      "Your age in years is 21, Your days left are 25185, your weeks left are 3588, and your months left are 828\n"
     ]
    }
   ],
   "source": [
    "#visualize your life in weeks, assume you live to 90\n",
    "print(\"Visualize your life in weeks!!\")\n",
    "age = input(\"What is your current age?\")\n",
    "\n",
    "age_int = int(age)\n",
    "years_left = 90 - age_int #still int = 70\n",
    "\n",
    "days_left = int(years_left*365)\n",
    "#365 days\n",
    "\n",
    "weeks_left = int(years_left*52)\n",
    "#52 weeks\n",
    "\n",
    "months_left = int(years_left*12)\n",
    "#12 months\n",
    "\n",
    "\n",
    "print(f\"Your age in years is {age_int}, Your days left are {days_left}, your weeks left are {weeks_left}, and your months left are {months_left}\")\n"
   ]
  },
  {
   "cell_type": "code",
   "execution_count": 3,
   "id": "ebfaf830",
   "metadata": {},
   "outputs": [
    {
     "name": "stdout",
     "output_type": "stream",
     "text": [
      "Welcome to the tip calculator.\n",
      "What was the bill total? $100\n",
      "What percentage tip would you like to give? 10, 12, or 15?15\n",
      "How many people will split the bill?5\n",
      "Each person should pay 23.0\n"
     ]
    }
   ],
   "source": [
    "#tip calculator project\n",
    "print(\"Welcome to the tip calculator.\")\n",
    "bill = input(\"What was the bill total? $\")\n",
    "tip = input(\"What percentage tip would you like to give? 10, 12, or 15?\")\n",
    "people = input(\"How many people will split the bill?\")\n",
    "\n",
    "bill_float = float(bill)\n",
    "tip_float = int(tip)\n",
    "people_float = int(people)\n",
    "\n",
    "tip_as_percent = tip_float / 100\n",
    "total_tip_amount = bill_float * tip_as_percent\n",
    "total_bill = bill_float + total_tip_amount\n",
    "\n",
    "bill_per_person = total_bill / people_float \n",
    "round(bill_per_person, 2)\n",
    "\n",
    "print(f\"Each person should pay {bill_per_person}\")"
   ]
  },
  {
   "cell_type": "code",
   "execution_count": null,
   "id": "fc7cbbe3",
   "metadata": {},
   "outputs": [],
   "source": []
  },
  {
   "cell_type": "code",
   "execution_count": null,
   "id": "211c064e",
   "metadata": {},
   "outputs": [],
   "source": []
  },
  {
   "cell_type": "code",
   "execution_count": null,
   "id": "7e972642",
   "metadata": {},
   "outputs": [],
   "source": []
  },
  {
   "cell_type": "code",
   "execution_count": null,
   "id": "626589c9",
   "metadata": {},
   "outputs": [],
   "source": []
  },
  {
   "cell_type": "code",
   "execution_count": null,
   "id": "9cd4cd5c",
   "metadata": {},
   "outputs": [],
   "source": []
  },
  {
   "cell_type": "code",
   "execution_count": null,
   "id": "78b72923",
   "metadata": {},
   "outputs": [],
   "source": []
  },
  {
   "cell_type": "code",
   "execution_count": null,
   "id": "49449d11",
   "metadata": {},
   "outputs": [],
   "source": []
  },
  {
   "cell_type": "code",
   "execution_count": null,
   "id": "0c5b47c4",
   "metadata": {},
   "outputs": [],
   "source": []
  },
  {
   "cell_type": "code",
   "execution_count": null,
   "id": "56c3e97b",
   "metadata": {},
   "outputs": [],
   "source": []
  },
  {
   "cell_type": "code",
   "execution_count": null,
   "id": "96610440",
   "metadata": {},
   "outputs": [],
   "source": []
  },
  {
   "cell_type": "code",
   "execution_count": null,
   "id": "b185b08d",
   "metadata": {},
   "outputs": [],
   "source": []
  },
  {
   "cell_type": "code",
   "execution_count": null,
   "id": "83716419",
   "metadata": {},
   "outputs": [],
   "source": []
  }
 ],
 "metadata": {
  "kernelspec": {
   "display_name": "Python 3 (ipykernel)",
   "language": "python",
   "name": "python3"
  },
  "language_info": {
   "codemirror_mode": {
    "name": "ipython",
    "version": 3
   },
   "file_extension": ".py",
   "mimetype": "text/x-python",
   "name": "python",
   "nbconvert_exporter": "python",
   "pygments_lexer": "ipython3",
   "version": "3.10.5"
  }
 },
 "nbformat": 4,
 "nbformat_minor": 5
}

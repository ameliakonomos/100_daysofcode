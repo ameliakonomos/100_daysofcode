{
 "cells": [
  {
   "cell_type": "code",
   "execution_count": 2,
   "id": "c066b2e4",
   "metadata": {},
   "outputs": [
    {
     "name": "stdout",
     "output_type": "stream",
     "text": [
      "\n",
      "                         ___________\n",
      "                         \\         /\n",
      "                          )_______(\n",
      "                          |\"\"\"\"\"\"\"|_.-._,.---------.,_.-._\n",
      "                          |       | | |               | | ''-.\n",
      "                          |       |_| |_             _| |_..-'\n",
      "                          |_______| '-' `'---------'` '-'\n",
      "                          )\"\"\"\"\"\"\"(\n",
      "                         /_________\\\n",
      "                       .-------------.\n",
      "                      /_______________\\\n",
      "\n"
     ]
    }
   ],
   "source": [
    "logo = '''\n",
    "                         ___________\n",
    "                         \\         /\n",
    "                          )_______(\n",
    "                          |\"\"\"\"\"\"\"|_.-._,.---------.,_.-._\n",
    "                          |       | | |               | | ''-.\n",
    "                          |       |_| |_             _| |_..-'\n",
    "                          |_______| '-' `'---------'` '-'\n",
    "                          )\"\"\"\"\"\"\"(\n",
    "                         /_________\\\\\n",
    "                       .-------------.\n",
    "                      /_______________\\\\\n",
    "'''\n",
    "print(logo)"
   ]
  },
  {
   "cell_type": "code",
   "execution_count": 3,
   "id": "1f3ec0a2",
   "metadata": {},
   "outputs": [
    {
     "name": "stdout",
     "output_type": "stream",
     "text": [
      "What is your name amelia\n",
      "What is your bid 10\n",
      "Are there any other bidders? Type 'yes' or 'no'. yes\n",
      "What is your name sidney\n",
      "What is your bid 100\n",
      "Are there any other bidders? Type 'yes' or 'no'. no\n",
      "The winner is sidney with a bid of $100\n"
     ]
    }
   ],
   "source": [
    "bids = {} #initialize dictionary \n",
    "bidding_finished = False  \n",
    "\n",
    "def find_highest_bidder(bidding_record):\n",
    "    highest_bid = 0\n",
    "    winnter = \"\"\n",
    "    #dictionary of the format bidding_record = {\"name\": 100, \"name2: 102\"}\n",
    "    for bidder in bidding_record: #loops through the keys name and name2\n",
    "        bid_amount = bidding_record[bidder] #accessing 100, 102\n",
    "        if bid_amount > highest_bid:\n",
    "            highest_bid = bid_amount #sets highest bid and loops throuh keys to check\n",
    "            winner = bidder #key\n",
    "    print(f\"The winner is {winner} with a bid of ${highest_bid}\")\n",
    "        \n",
    "while not bidding_finished: \n",
    "    name = input(\"What is your name \")\n",
    "    price = int(input(\"What is your bid \"))\n",
    "    bids[name] = price #key is name, value is price, bids is dictionary\n",
    "    should_continue = input(\"Are there any other bidders? Type 'yes' or 'no'. \")\n",
    "    if should_continue == 'no':\n",
    "        bidding_finished = True #stop while loop\n",
    "        find_highest_bidder(bids) #call first function\n",
    "\n",
    "\n"
   ]
  },
  {
   "cell_type": "code",
   "execution_count": null,
   "id": "2f5d3101",
   "metadata": {},
   "outputs": [],
   "source": [
    "\n",
    "\n"
   ]
  }
 ],
 "metadata": {
  "kernelspec": {
   "display_name": "Python 3 (ipykernel)",
   "language": "python",
   "name": "python3"
  },
  "language_info": {
   "codemirror_mode": {
    "name": "ipython",
    "version": 3
   },
   "file_extension": ".py",
   "mimetype": "text/x-python",
   "name": "python",
   "nbconvert_exporter": "python",
   "pygments_lexer": "ipython3",
   "version": "3.10.5"
  }
 },
 "nbformat": 4,
 "nbformat_minor": 5
}

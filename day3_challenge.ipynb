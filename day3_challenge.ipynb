{
 "cells": [
  {
   "cell_type": "code",
   "execution_count": 5,
   "id": "0cdcef35",
   "metadata": {},
   "outputs": [
    {
     "name": "stdout",
     "output_type": "stream",
     "text": [
      "What is your height in cm? 100\n",
      "You may not ride the roller coaster\n"
     ]
    }
   ],
   "source": [
    "#if else statement, either A or B\n",
    "height = int(input(\"What is your height in cm? \"))\n",
    "if height > 120:\n",
    "    print(\"You may ride the roller coaster\")\n",
    "else:\n",
    "    print(\"You may not ride the roller coaster\")\n"
   ]
  },
  {
   "cell_type": "code",
   "execution_count": 6,
   "id": "e9047d7c",
   "metadata": {},
   "outputs": [
    {
     "name": "stdout",
     "output_type": "stream",
     "text": [
      "What is your height in cm? 120\n",
      "You may ride the roller coaster\n"
     ]
    }
   ],
   "source": [
    "height = int(input(\"What is your height in cm? \"))\n",
    "if height == 120:\n",
    "    print(\"You may ride the roller coaster\")\n",
    "else:\n",
    "    print(\"You may not ride the roller coaster\")"
   ]
  },
  {
   "cell_type": "code",
   "execution_count": 7,
   "id": "ddeb710e",
   "metadata": {},
   "outputs": [
    {
     "name": "stdout",
     "output_type": "stream",
     "text": [
      "Which number do you want to check? 3\n",
      "Your number is odd\n"
     ]
    }
   ],
   "source": [
    "number = int(input(\"Which number do you want to check? \"))\n",
    "# % = modulo divides a number and gives the remainder of the division\n",
    "if number%2 == 0:\n",
    "    print(\"Your number is even\")\n",
    "else: \n",
    "    print(\"Your number is odd\")"
   ]
  },
  {
   "cell_type": "code",
   "execution_count": 12,
   "id": "ae0e9310",
   "metadata": {},
   "outputs": [
    {
     "name": "stdout",
     "output_type": "stream",
     "text": [
      "What is your height in cm? 150\n",
      "What is your age in years21\n",
      "You may buy a ticket\n",
      "Adult tickets are 12 dollars\n",
      "Do you want a photo taken? Y or NY\n",
      "Your final bill is 15\n"
     ]
    }
   ],
   "source": [
    "#nested if and elif statements\n",
    "height = int(input(\"What is your height in cm? \"))\n",
    "age = int(input(\"What is your age in years? \"))\n",
    "bill = 0\n",
    "if height >= 120:\n",
    "    print(\"You may buy a ticket\")\n",
    "    #eligible tickets\n",
    "    if age <= 12:\n",
    "        print(\"Child tickets are 5 dollars\")\n",
    "        bill = 5\n",
    "    elif age <=18:\n",
    "        print(\"Youth tickets are 7 dollars.\")\n",
    "        bill = 7\n",
    "    elif age <= 45 and <= 55:\n",
    "        print(\"The ride is free!\")\n",
    "    else:\n",
    "        print(\"Adult tickets are 12 dollars\")\n",
    "        bill = 12\n",
    "        \n",
    "    wants_photo = input(\"Do you want a photo taken? Y or N\")\n",
    "    if wants_photo == \"Y\":\n",
    "        #bill = bill + 3\n",
    "        bill += 3 #adds 3 to bill\n",
    "        #add 3 dollars to bill\n",
    "    print(f\"Your final bill is ${bill}\")  \n",
    "else:\n",
    "    print(\"You may not ride the ride\")\n"
   ]
  },
  {
   "cell_type": "code",
   "execution_count": 6,
   "id": "ff36f330",
   "metadata": {},
   "outputs": [
    {
     "name": "stdout",
     "output_type": "stream",
     "text": [
      "enter your height in m: 1.6\n",
      "enter your weight in kg: 47.627\n",
      "Your BMI is 18.604296874999996, you have a normal weight.\n"
     ]
    }
   ],
   "source": [
    "#upgraded BMI calculator\n",
    "height = float(input(\"enter your height in m: \"))\n",
    "weight = float(input(\"enter your weight in kg: \"))\n",
    "bmi = weight / height**2\n",
    "\n",
    "if bmi < 18.5:\n",
    "    print(f\"Your bmi is {bmi}, you are underweight.\")\n",
    "elif bmi < 25:\n",
    "    print(f\"Your BMI is {bmi}, you have a normal weight.\")\n",
    "elif bmi < 30:\n",
    "    print(f\"Your BMI is {bmi}, you are overweight.\")\n",
    "elif bmi < 35:\n",
    "    print(f\"Your BMI is {bmi}, you are obese.\")\n",
    "else: \n",
    "    print(f\"Your BMI is {bmi}, youare clinically obese\")\n",
    "\n"
   ]
  },
  {
   "cell_type": "code",
   "execution_count": 10,
   "id": "d522767a",
   "metadata": {},
   "outputs": [
    {
     "name": "stdout",
     "output_type": "stream",
     "text": [
      "Which year do you want to check? 2020\n",
      "This is a leap year!\n"
     ]
    }
   ],
   "source": [
    "#LEAP YEAR CALCULATOR using if/elif/else\n",
    "year = int(input(\"Which year do you want to check? \"))\n",
    "if year%4 == 0: \n",
    "    if year%100 == 0:\n",
    "        if year%400 == 0:\n",
    "            print(\"This is a leap year.\")\n",
    "        else:\n",
    "            print(\"This is not a leap year.\")\n",
    "    else:\n",
    "        print(\"This is a leap year!\")\n",
    "else:\n",
    "    print(\"This is not a leap year.\")\n"
   ]
  },
  {
   "cell_type": "code",
   "execution_count": 17,
   "id": "c20abca1",
   "metadata": {},
   "outputs": [
    {
     "name": "stdout",
     "output_type": "stream",
     "text": [
      "Welcome to Python Pizza Deliveries!\n",
      "What size pizza do you want? S, M, or L? M\n",
      "Do you want pepperoni? Y or N? N\n",
      "Do you want extra cheese? Y or N? Y\n",
      "Your total bill is $21\n"
     ]
    }
   ],
   "source": [
    "#multiple if conditions\n",
    "print(\"Welcome to Python Pizza Deliveries!\")\n",
    "size = input(\"What size pizza do you want? S, M, or L? \")\n",
    "add_pepperoni = input(\"Do you want pepperoni? Y or N? \")\n",
    "extra_cheese = input(\"Do you want extra cheese? Y or N? \")\n",
    "bill = 0 \n",
    "\n",
    "if size == \"S\":\n",
    "    bill += 15\n",
    "elif size == \"M\":\n",
    "    bill += 20\n",
    "elif size == \"L\":\n",
    "    bill += 25\n",
    "    \n",
    "if add_pepperoni == \"Y\":\n",
    "    if size == \"S\":\n",
    "        bill += 2\n",
    "    else:\n",
    "        bill += 3\n",
    "if extra_cheese == \"Y\":\n",
    "    bill +=1\n",
    "    \n",
    "print(f\"Your total bill is ${bill}\")"
   ]
  },
  {
   "cell_type": "code",
   "execution_count": 25,
   "id": "582a8398",
   "metadata": {},
   "outputs": [
    {
     "name": "stdout",
     "output_type": "stream",
     "text": [
      "Welcome to the Love Calculator!\n",
      "What is your name? \n",
      "amelia\n",
      "What is their name? \n",
      "jorge\n",
      "Your score is 34\n"
     ]
    }
   ],
   "source": [
    "#logical operators \n",
    "print(\"Welcome to the Love Calculator!\")\n",
    "name1 = input(\"What is your name? \\n\")\n",
    "name2 = input(\"What is their name? \\n\")\n",
    "\n",
    "lower_name1 = name1.lower()\n",
    "lower_name2 = name2.lower()\n",
    "\n",
    "total_name = lower_name1 + lower_name2\n",
    "love_score = 0\n",
    "\n",
    "t = total_name.count(\"t\") \n",
    "r = total_name.count(\"r\") \n",
    "u = total_name.count(\"u\") \n",
    "e = total_name.count(\"e\") \n",
    "l = total_name.count(\"l\") \n",
    "o = total_name.count(\"o\") \n",
    "v = total_name.count(\"v\") \n",
    "e = total_name.count(\"e\") \n",
    "\n",
    "true = t + r + u + e\n",
    "love = l + o + v + e\n",
    "\n",
    "love_score = str(true) + str(love)\n",
    "love_score_int = int(love_score)\n",
    "\n",
    "if love_score_int < 10 or love_score_int > 90:\n",
    "    print(f\"Your score is {love_score_int}, you go together like kim and kanye\")\n",
    "elif love_score_int > 40 and love_score_int < 50:\n",
    "    print(f\"Your score is {love_score_int}, you are giving ariana and pete\")\n",
    "else:\n",
    "    print(f\"Your score is {love_score_int}\")\n",
    "\n",
    "#lower() reduces capital letter to lower case "
   ]
  },
  {
   "cell_type": "code",
   "execution_count": 26,
   "id": "dd3cdc5d",
   "metadata": {},
   "outputs": [
    {
     "name": "stdout",
     "output_type": "stream",
     "text": [
      "\n",
      "*******************************************************************************\n",
      "          |                   |                  |                     |\n",
      " _________|________________.=\"\"_;=.______________|_____________________|_______\n",
      "|                   |  ,-\"_,=\"\"     `\"=.|                  |\n",
      "|___________________|__\"=._o`\"-._        `\"=.______________|___________________\n",
      "          |                `\"=._o`\"=._      _`\"=._                     |\n",
      " _________|_____________________:=._o \"=._.\"_.-=\"'\"=.__________________|_______\n",
      "|                   |    __.--\" , ; `\"=._o.\" ,-\"\"\"-._ \".   |\n",
      "|___________________|_._\"  ,. .` ` `` ,  `\"-._\"-._   \". '__|___________________\n",
      "          |           |o`\"=._` , \"` `; .\". ,  \"-._\"-._; ;              |\n",
      " _________|___________| ;`-.o`\"=._; .\" ` '`.\"\\` . \"-._ /_______________|_______\n",
      "|                   | |o;    `\"-.o`\"=._``  '` \" ,__.--o;   |\n",
      "|___________________|_| ;     (#) `-.o `\"=.`_.--\"_o.-; ;___|___________________\n",
      "____/______/______/___|o;._    \"      `\".o|o_.--\"    ;o;____/______/______/____\n",
      "/______/______/______/_\"=._o--._        ; | ;        ; ;/______/______/______/_\n",
      "____/______/______/______/__\"=._o--._   ;o|o;     _._;o;____/______/______/____\n",
      "/______/______/______/______/____\"=._o._; | ;_.--\"o.--\"_/______/______/______/_\n",
      "____/______/______/______/______/_____\"=.o|o_.--\"\"___/______/______/______/____\n",
      "/______/______/______/______/______/______/______/______/______/______/_____ /\n",
      "*******************************************************************************\n",
      "\n",
      "Welcome to Treasure Island.\n",
      "Your mission is to find the treasure.\n"
     ]
    }
   ],
   "source": [
    "########FINAL PROJECT########\n",
    "print('''\n",
    "*******************************************************************************\n",
    "          |                   |                  |                     |\n",
    " _________|________________.=\"\"_;=.______________|_____________________|_______\n",
    "|                   |  ,-\"_,=\"\"     `\"=.|                  |\n",
    "|___________________|__\"=._o`\"-._        `\"=.______________|___________________\n",
    "          |                `\"=._o`\"=._      _`\"=._                     |\n",
    " _________|_____________________:=._o \"=._.\"_.-=\"'\"=.__________________|_______\n",
    "|                   |    __.--\" , ; `\"=._o.\" ,-\"\"\"-._ \".   |\n",
    "|___________________|_._\"  ,. .` ` `` ,  `\"-._\"-._   \". '__|___________________\n",
    "          |           |o`\"=._` , \"` `; .\". ,  \"-._\"-._; ;              |\n",
    " _________|___________| ;`-.o`\"=._; .\" ` '`.\"\\` . \"-._ /_______________|_______\n",
    "|                   | |o;    `\"-.o`\"=._``  '` \" ,__.--o;   |\n",
    "|___________________|_| ;     (#) `-.o `\"=.`_.--\"_o.-; ;___|___________________\n",
    "____/______/______/___|o;._    \"      `\".o|o_.--\"    ;o;____/______/______/____\n",
    "/______/______/______/_\"=._o--._        ; | ;        ; ;/______/______/______/_\n",
    "____/______/______/______/__\"=._o--._   ;o|o;     _._;o;____/______/______/____\n",
    "/______/______/______/______/____\"=._o._; | ;_.--\"o.--\"_/______/______/______/_\n",
    "____/______/______/______/______/_____\"=.o|o_.--\"\"___/______/______/______/____\n",
    "/______/______/______/______/______/______/______/______/______/______/_____ /\n",
    "*******************************************************************************\n",
    "''')\n",
    "print(\"Welcome to Treasure Island.\")\n",
    "print(\"Your mission is to find the treasure.\") \n",
    "\n",
    "direction = input(\"You're at a crossroad. Where do you want to go? Type L or R\")\n",
    "move = input(\"You come across a raging river. Are you going to swim across or wait for the water to calm? Type swim or wait.\")\n",
    "lover_move = move.lower()\n",
    "\n",
    "if direction == \"L\"\n",
    "    if lower_move == swim:\n",
    "        if \n",
    "    else: \n",
    "        print(\"You were eaten by the river pirhanas. Game over!\")\n",
    "else:\n",
    "    print(\"You fell into a sinkhole...game over! \")\n",
    "\n",
    "\n",
    "#https://www.draw.io/?lightbox=1&highlight=0000ff&edit=_blank&layers=1&nav=1&title=Treasure%20Island%20Conditional.drawio#Uhttps%3A%2F%2Fdrive.google.com%2Fuc%3Fid%3D1oDe4ehjWZipYRsVfeAx2HyB7LCQ8_Fvi%26export%3Ddownload\n",
    "\n",
    "#Write your code below this line 👇\n",
    "\n"
   ]
  },
  {
   "cell_type": "code",
   "execution_count": null,
   "id": "acc4a365",
   "metadata": {},
   "outputs": [],
   "source": []
  },
  {
   "cell_type": "code",
   "execution_count": null,
   "id": "ea53cfa4",
   "metadata": {},
   "outputs": [],
   "source": []
  },
  {
   "cell_type": "code",
   "execution_count": null,
   "id": "29e39edd",
   "metadata": {},
   "outputs": [],
   "source": []
  },
  {
   "cell_type": "code",
   "execution_count": null,
   "id": "3bbafb10",
   "metadata": {},
   "outputs": [],
   "source": []
  },
  {
   "cell_type": "code",
   "execution_count": null,
   "id": "7d3d0e41",
   "metadata": {},
   "outputs": [],
   "source": []
  },
  {
   "cell_type": "code",
   "execution_count": null,
   "id": "5a7bd119",
   "metadata": {},
   "outputs": [],
   "source": []
  },
  {
   "cell_type": "code",
   "execution_count": null,
   "id": "1b7c7398",
   "metadata": {},
   "outputs": [],
   "source": []
  },
  {
   "cell_type": "code",
   "execution_count": null,
   "id": "04b2133d",
   "metadata": {},
   "outputs": [],
   "source": []
  },
  {
   "cell_type": "code",
   "execution_count": null,
   "id": "7b116520",
   "metadata": {},
   "outputs": [],
   "source": []
  },
  {
   "cell_type": "code",
   "execution_count": null,
   "id": "f6947d1e",
   "metadata": {},
   "outputs": [],
   "source": []
  },
  {
   "cell_type": "code",
   "execution_count": null,
   "id": "5edbaa19",
   "metadata": {},
   "outputs": [],
   "source": []
  },
  {
   "cell_type": "code",
   "execution_count": null,
   "id": "f93cf94f",
   "metadata": {},
   "outputs": [],
   "source": []
  },
  {
   "cell_type": "code",
   "execution_count": null,
   "id": "1c60099b",
   "metadata": {},
   "outputs": [],
   "source": []
  }
 ],
 "metadata": {
  "kernelspec": {
   "display_name": "Python 3 (ipykernel)",
   "language": "python",
   "name": "python3"
  },
  "language_info": {
   "codemirror_mode": {
    "name": "ipython",
    "version": 3
   },
   "file_extension": ".py",
   "mimetype": "text/x-python",
   "name": "python",
   "nbconvert_exporter": "python",
   "pygments_lexer": "ipython3",
   "version": "3.10.5"
  }
 },
 "nbformat": 4,
 "nbformat_minor": 5
}

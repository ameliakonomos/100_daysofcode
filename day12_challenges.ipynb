{
 "cells": [
  {
   "cell_type": "code",
   "execution_count": 8,
   "id": "9f286ae2",
   "metadata": {},
   "outputs": [
    {
     "name": "stdout",
     "output_type": "stream",
     "text": [
      "enemies inside function: 2\n",
      "enemies outside function: 1\n",
      "10\n"
     ]
    }
   ],
   "source": [
    "#local scope\n",
    "enemies = 1\n",
    "\n",
    "def increase_enemies():\n",
    "    enemies = 2\n",
    "    print(f\"enemies inside function: {enemies}\")\n",
    "\n",
    "increase_enemies()\n",
    "print(f\"enemies outside function: {enemies}\")\n",
    "\n",
    "def game():\n",
    "#global scope= avaliable anywhere in file\n",
    "    player_health = 10\n",
    "    def drink_Potion():\n",
    "        potion_strength = 2\n",
    "        print(player_health)\n",
    "\n",
    "drink_Potion()\n",
    "#no such thing as block scope in python"
   ]
  },
  {
   "cell_type": "code",
   "execution_count": 9,
   "id": "36459ca5",
   "metadata": {},
   "outputs": [
    {
     "name": "stdout",
     "output_type": "stream",
     "text": [
      "Skeleton, Zombie, Alien\n"
     ]
    }
   ],
   "source": [
    "####important\n",
    "game_level = 3\n",
    "enemies = [\"Skeleton, Zombie, Alien\"]\n",
    "if game_level <5:\n",
    "    new_enemy = enemies[0]\n",
    "print(new_enemy)"
   ]
  },
  {
   "cell_type": "code",
   "execution_count": 11,
   "id": "02aaf814",
   "metadata": {},
   "outputs": [
    {
     "name": "stdout",
     "output_type": "stream",
     "text": [
      "Skeleton, Zombie, Alien\n"
     ]
    }
   ],
   "source": [
    "def create_enemy():\n",
    "    enemies = [\"Skeleton, Zombie, Alien\"]\n",
    "    if game_level <5:\n",
    "        new_enemy = enemies[0]\n",
    "    print(new_enemy)\n",
    "create_enemy()"
   ]
  },
  {
   "cell_type": "code",
   "execution_count": 15,
   "id": "7f812d4b",
   "metadata": {},
   "outputs": [
    {
     "name": "stdout",
     "output_type": "stream",
     "text": [
      "enemies local variable: Zombie\n",
      "enemies global variable: Skeleton\n"
     ]
    }
   ],
   "source": [
    "#modify a global variable\n",
    "enemies = \"Skeleton\"\n",
    "def increase_enemies():\n",
    "    enemies = \"Zombie\"\n",
    "    print(f\"enemies local variable: {enemies}\")\n",
    "increase_enemies()\n",
    "print(f\"enemies global variable: {enemies}\") \n",
    "#local and global variables are different!!!\n",
    "#avoid modifying global scope"
   ]
  },
  {
   "cell_type": "code",
   "execution_count": null,
   "id": "6c54bb63",
   "metadata": {},
   "outputs": [],
   "source": [
    "PI = 3.14159\n",
    "URL = \"linkedin/ameliakonomos.com\" #uppercase signifies to not modify within code"
   ]
  },
  {
   "cell_type": "code",
   "execution_count": 18,
   "id": "73e38215",
   "metadata": {},
   "outputs": [
    {
     "name": "stdout",
     "output_type": "stream",
     "text": [
      "50\n"
     ]
    }
   ],
   "source": [
    "#example of computer not being able to access the local i 100\n",
    "i = 50\n",
    "def foo():\n",
    "    i = 100\n",
    "    return i\n",
    " \n",
    "foo()\n",
    "print(i)"
   ]
  },
  {
   "cell_type": "code",
   "execution_count": 2,
   "id": "da7d788e",
   "metadata": {},
   "outputs": [
    {
     "name": "stdout",
     "output_type": "stream",
     "text": [
      "Welcome to the number guessing game...I am thinking of a number between 1 and 100\n",
      "Pssst.. the answer is 97\n",
      "Would you like easy or hard? enter 'e' or 'h'...h\n",
      "What number would you like to guess? 90\n",
      "Your guess is too low\n",
      "You have 4 attempts remaining...\n",
      "What number would you like to guess? 90\n",
      "Your guess is too low\n",
      "You have 3 attempts remaining...\n",
      "What number would you like to guess? 90\n",
      "Your guess is too low\n",
      "You have 2 attempts remaining...\n",
      "What number would you like to guess? 90\n",
      "Your guess is too low\n",
      "You have 1 attempts remaining...\n",
      "What number would you like to guess? 90\n",
      "Your guess is too low\n",
      "You have 0 attempts remaining...\n",
      "What number would you like to guess? 90\n",
      "You lost...\n"
     ]
    }
   ],
   "source": [
    "#my code\n",
    "import random\n",
    "#Number Guessing Game Objectives:\n",
    "print(\"Welcome to the number guessing game...I am thinking of a number between 1 and 100\")\n",
    "#global variables\n",
    "easy_attempts = 10\n",
    "hard_attempts = 5\n",
    "game_finished = False\n",
    "#easy = 10 attempts, hard = 5\n",
    "computer_choice = int(random.choice(range(1,100)))\n",
    "print(f\"Pssst.. the answer is {computer_choice}\")\n",
    "user_mode = input(\"Would you like easy or hard? enter 'e' or 'h'...\")\n",
    "while not game_finished:\n",
    "    user_choice = int(input(\"What number would you like to guess? \"))\n",
    "    if user_mode == 'e':\n",
    "        if easy_attempts == 0:\n",
    "            game_finished = True\n",
    "            print(\"You lost...\")\n",
    "        elif user_choice == computer_choice:\n",
    "            print(\"You win!\")\n",
    "            game_finished = True\n",
    "        elif user_choice != computer_choice:\n",
    "            easy_attempts -= 1\n",
    "            if user_choice < computer_choice:\n",
    "                print(f\"Your guess is too low\")\n",
    "            elif user_choice > computer_choice:\n",
    "                print(\"Your guess is too high!\")\n",
    "            print(f\"You have {easy_attempts} attempts remaining...\")\n",
    "    elif user_mode == 'h':\n",
    "        if hard_attempts == 0:\n",
    "            game_finished = True\n",
    "            print(\"You lost...\")\n",
    "        elif user_choice == computer_choice:\n",
    "            print(\"You win!\")\n",
    "            game_finished = True\n",
    "        elif user_choice != computer_choice:\n",
    "            hard_attempts -= 1\n",
    "            if user_choice < computer_choice:\n",
    "                print(f\"Your guess is too low\")\n",
    "            elif user_choice > computer_choice:\n",
    "                print(\"Your guess is too high!\")\n",
    "            print(f\"You have {hard_attempts} attempts remaining...\")\n",
    "\n",
    "\n",
    "\n",
    "        \n",
    "        \n",
    "\n",
    "# Allow the player to submit a guess for a number between 1 and 100.\n",
    "# Check user's guess against actual answer. Print \"Too high.\" or \"Too low.\" depending on the user's answer. \n",
    "# If they got the answer correct, show the actual answer to the player.\n",
    "# Track the number of turns remaining.\n",
    "# If they run out of turns, provide feedback to the player. \n",
    "# Include two different difficulty levels (e.g., 10 guesses in easy mode, only 5 guesses in hard mode).\n",
    "\n"
   ]
  },
  {
   "cell_type": "code",
   "execution_count": null,
   "id": "dd158494",
   "metadata": {},
   "outputs": [],
   "source": [
    "\n"
   ]
  },
  {
   "cell_type": "code",
   "execution_count": null,
   "id": "ad28a50d",
   "metadata": {},
   "outputs": [],
   "source": []
  }
 ],
 "metadata": {
  "kernelspec": {
   "display_name": "Python 3 (ipykernel)",
   "language": "python",
   "name": "python3"
  },
  "language_info": {
   "codemirror_mode": {
    "name": "ipython",
    "version": 3
   },
   "file_extension": ".py",
   "mimetype": "text/x-python",
   "name": "python",
   "nbconvert_exporter": "python",
   "pygments_lexer": "ipython3",
   "version": "3.10.5"
  }
 },
 "nbformat": 4,
 "nbformat_minor": 5
}

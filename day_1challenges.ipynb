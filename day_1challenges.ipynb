{
 "cells": [
  {
   "cell_type": "code",
   "execution_count": 1,
   "id": "48e866dc",
   "metadata": {},
   "outputs": [
    {
     "name": "stdout",
     "output_type": "stream",
     "text": [
      "What is your name?Amelia\n",
      "6\n"
     ]
    }
   ],
   "source": [
    "#count number of character in user input name\n",
    "print(len(input(\"What is your name?\")))\n"
   ]
  },
  {
   "cell_type": "code",
   "execution_count": 2,
   "id": "5dfe4dcc",
   "metadata": {},
   "outputs": [
    {
     "name": "stdout",
     "output_type": "stream",
     "text": [
      "What is your nameKonomos\n",
      "Konomos\n"
     ]
    }
   ],
   "source": [
    "name = input(\"What is your name\")\n",
    "print(name)"
   ]
  },
  {
   "cell_type": "code",
   "execution_count": 3,
   "id": "484797ec",
   "metadata": {},
   "outputs": [
    {
     "name": "stdout",
     "output_type": "stream",
     "text": [
      "a: 4\n",
      "b: 5\n",
      "a: 5\n",
      "b: 4\n"
     ]
    }
   ],
   "source": [
    "# switch inputs a and b\n",
    "a = input(\"a: \")\n",
    "b = input(\"b: \")\n",
    "# 🚨 Don't change the code above 👆\n",
    "\n",
    "#new variable\n",
    "c = a\n",
    "\n",
    "#switch\n",
    "a = b\n",
    "\n",
    "#switch\n",
    "b = c\n",
    "print(\"a: \" + a)\n",
    "print(\"b: \" + b)\n"
   ]
  },
  {
   "cell_type": "code",
   "execution_count": 2,
   "id": "7362f89f",
   "metadata": {},
   "outputs": [
    {
     "name": "stdout",
     "output_type": "stream",
     "text": [
      "Welcome to the random band name generator!\n",
      "What city did you grow up in? \n",
      "knoxville\n",
      "What is your favorite type of animal \n",
      "dolphin\n",
      "Your band name is knoxville dolphin\n"
     ]
    }
   ],
   "source": [
    "#program greeting\n",
    "print(\"Welcome to the random band name generator!\")\n",
    "\n",
    "city = input(\"What city did you grow up in? \\n\")\n",
    "\n",
    "pet = input(\"What is your favorite type of animal \\n\")\n",
    "\n",
    "\n",
    "print(\"Your band name is \" + city + \" \" + pet)"
   ]
  },
  {
   "cell_type": "code",
   "execution_count": null,
   "id": "83fcad65",
   "metadata": {},
   "outputs": [],
   "source": []
  }
 ],
 "metadata": {
  "kernelspec": {
   "display_name": "Python 3 (ipykernel)",
   "language": "python",
   "name": "python3"
  },
  "language_info": {
   "codemirror_mode": {
    "name": "ipython",
    "version": 3
   },
   "file_extension": ".py",
   "mimetype": "text/x-python",
   "name": "python",
   "nbconvert_exporter": "python",
   "pygments_lexer": "ipython3",
   "version": "3.10.5"
  }
 },
 "nbformat": 4,
 "nbformat_minor": 5
}

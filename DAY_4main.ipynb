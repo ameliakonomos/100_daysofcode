{
 "cells": [
  {
   "cell_type": "code",
   "execution_count": 20,
   "id": "3e0e94ee",
   "metadata": {},
   "outputs": [
    {
     "name": "stdout",
     "output_type": "stream",
     "text": [
      "done\n"
     ]
    }
   ],
   "source": [
    "#randomisation\n",
    "import random\n",
    "print('done')"
   ]
  },
  {
   "cell_type": "code",
   "execution_count": 18,
   "id": "ccdc79c8",
   "metadata": {},
   "outputs": [
    {
     "name": "stdout",
     "output_type": "stream",
     "text": [
      "done\n"
     ]
    }
   ],
   "source": [
    "%run ./number_module.ipynb #import module into main\n",
    "print('done')"
   ]
  },
  {
   "cell_type": "code",
   "execution_count": 19,
   "id": "e8502fb5",
   "metadata": {},
   "outputs": [
    {
     "name": "stdout",
     "output_type": "stream",
     "text": [
      "8479293\n",
      "3.14159\n"
     ]
    }
   ],
   "source": [
    "random_integer = random.randint(1, 10000000)\n",
    "print(random_integer)  \n",
    "print(pi)#where pi is from number_module"
   ]
  },
  {
   "cell_type": "code",
   "execution_count": 21,
   "id": "58f76c9a",
   "metadata": {},
   "outputs": [
    {
     "name": "stdout",
     "output_type": "stream",
     "text": [
      "Your love score is 8\n"
     ]
    }
   ],
   "source": [
    "love_score = random.randint(1,100)\n",
    "print(f\"Your love score is {love_score}\")"
   ]
  },
  {
   "cell_type": "code",
   "execution_count": 26,
   "id": "a8a85958",
   "metadata": {},
   "outputs": [
    {
     "name": "stdout",
     "output_type": "stream",
     "text": [
      "Would you like to flip the coin? Y or N Y\n",
      "You generated heads!\n"
     ]
    }
   ],
   "source": [
    "#random coin toss\n",
    "coin = input(\"Would you like to flip the coin? Y or N \")\n",
    "if coin == \"Y\":\n",
    "    coin_flip = random.randint(0,1)\n",
    "    if coin_flip == 0:\n",
    "        print(\"You generated heads!\")\n",
    "    elif coin_flip == 1:\n",
    "        print(\"You generated tails!\")   \n",
    "else:\n",
    "    print(\"You did not play the game\")"
   ]
  },
  {
   "cell_type": "code",
   "execution_count": 36,
   "id": "8fdd5d2f",
   "metadata": {},
   "outputs": [
    {
     "name": "stdout",
     "output_type": "stream",
     "text": [
      "My favorite southern state is Florida\n",
      "My least favorite southern state is Kentucky\n",
      "My least favorite southern state is Kentucky\n",
      "['Miami, Florida', 'Tennessee', 'South carolina', 'North carolina', 'Georgia', 'Alabama', 'Missisipi', 'Kentucky', '...I do not like anywhere in Kentucky']\n"
     ]
    }
   ],
   "source": [
    "#python lists is a data structure\n",
    "southern_states = [\"Florida\", \"Tennessee\", \"South carolina\", \"North carolina\", \"Georgia\", \"Alabama\", \"Missisipi\", \"Kentucky\"] \n",
    "#in order of my favorite to least favorite\n",
    "print(f\"My favorite southern state is {southern_states[0]}\") #this is my favorite southern state\n",
    "print(f\"My least favorite southern state is {southern_states[7]}\") #this is my favorite southern state\n",
    "print(f\"My least favorite southern state is {southern_states[-1]}\") #this is my favorite southern state\n",
    "\n",
    "southern_states[0] = \"Miami, Florida\" #now I am specifying my favorite place in florida. I Feel very strongly about this\n",
    "southern_states.append(\"...I do not like anywhere in Kentucky\") #append this description to data\n",
    "# southern_states.extend([\"...I do not like anywhere in\",  \"Kentucky\"]) extend function\n",
    "print(southern_states)"
   ]
  },
  {
   "cell_type": "code",
   "execution_count": 40,
   "id": "b1301ced",
   "metadata": {},
   "outputs": [
    {
     "name": "stdout",
     "output_type": "stream",
     "text": [
      "Give me everybody's names, separated by a comma. Amelia, tanya, nazar\n",
      "The person who must pay is tanya\n"
     ]
    }
   ],
   "source": [
    "# Split string method\n",
    "names_string = input(\"Give me everybody's names, separated by a comma. \")\n",
    "names = names_string.split(\", \") #splits data into list\n",
    "name_length = len(names) #counts number of data entries in list\n",
    "pay_random = random.randint(0, name_length - 1) #0 to last index\n",
    "person_pay = names[pay_random] \n",
    "print(f\"The person who must pay is {person_pay}\")\n"
   ]
  },
  {
   "cell_type": "code",
   "execution_count": 50,
   "id": "239502a5",
   "metadata": {},
   "outputs": [
    {
     "name": "stdout",
     "output_type": "stream",
     "text": [
      "Missisipi\n",
      "Kentucky\n"
     ]
    }
   ],
   "source": [
    "#index out of range error\n",
    "southern_states = [\"Florida\", \"Tennessee\", \"South carolina\", \"North carolina\", \"Georgia\", \"Alabama\", \"Missisipi\", \"Kentucky\"] \n",
    "num_states = (len(southern_states)) #8 items, index 0 to 7\n",
    "\n",
    "#nested lists\n",
    "like = [\"Florida\", \"Tennessee\", \"South carolina\", \"North carolina\", \"Georgia\"]\n",
    "dislike = [\"Alabama\", \"Missisipi\", \"Kentucky\"]\n",
    "like_vs_dislike = [like, dislike]\n",
    "\n",
    "print(like_vs_dislike[1][1])\n",
    "print(southern_states[num_states -1])"
   ]
  },
  {
   "cell_type": "code",
   "execution_count": 2,
   "id": "2bff9305",
   "metadata": {},
   "outputs": [
    {
     "name": "stdout",
     "output_type": "stream",
     "text": [
      "['⬜️', '⬜️', '⬜️']\n",
      "['⬜️', '⬜️', '⬜️']\n",
      "['⬜️', '⬜️', '⬜️']\n",
      "Where do you want to put the treasure? 23\n",
      "['⬜️', '⬜️', '⬜️']\n",
      "['⬜️', '⬜️', '⬜️']\n",
      "['⬜️', 'X', '⬜️']\n"
     ]
    }
   ],
   "source": [
    "#game simulator\n",
    "row1 = [\"⬜️\",\"⬜️\",\"⬜️\"]\n",
    "row2 = [\"⬜️\",\"⬜️\",\"⬜️\"]\n",
    "row3 = [\"⬜️\",\"⬜️\",\"⬜️\"]\n",
    "map = [row1, row2, row3]\n",
    "print(f\"{row1}\\n{row2}\\n{row3}\")\n",
    "position = input(\"Where do you want to put the treasure? \") #input as a string\n",
    "horizontal = int(position[0]) #split two digit string into H and V\n",
    "vertical= int(position[1])\n",
    "\n",
    "selected_row = (map[vertical - 1])\n",
    "selected_row[horizontal - 1] = 'X' #replaces list X within list with horizontal/vert entry\n",
    "\n",
    "print(f\"{row1}\\n{row2}\\n{row3}\")"
   ]
  },
  {
   "cell_type": "code",
   "execution_count": null,
   "id": "2e13770b",
   "metadata": {},
   "outputs": [],
   "source": [
    "\n",
    "\n",
    "\n",
    "\n",
    "\n",
    "\n",
    "\n",
    "\n",
    "\n",
    "\n",
    "\n",
    "\n",
    "\n",
    "\n",
    "\n",
    "\n",
    "\n",
    "\n",
    "\n",
    "\n",
    "\n",
    "\n",
    "\n",
    "\n",
    "\n",
    "\n",
    "\n",
    "\n",
    "\n",
    "\n",
    "\n",
    "\n",
    "\n",
    "\n",
    "\n",
    "\n",
    "\n",
    "\n",
    "\n",
    "\n",
    "\n"
   ]
  },
  {
   "cell_type": "code",
   "execution_count": null,
   "id": "7eb2e032",
   "metadata": {},
   "outputs": [],
   "source": []
  },
  {
   "cell_type": "code",
   "execution_count": null,
   "id": "d7fb3b27",
   "metadata": {},
   "outputs": [],
   "source": []
  },
  {
   "cell_type": "code",
   "execution_count": null,
   "id": "be3783bd",
   "metadata": {},
   "outputs": [],
   "source": []
  },
  {
   "cell_type": "code",
   "execution_count": null,
   "id": "a6e9cf71",
   "metadata": {},
   "outputs": [],
   "source": []
  },
  {
   "cell_type": "code",
   "execution_count": null,
   "id": "2bbefddb",
   "metadata": {},
   "outputs": [],
   "source": []
  },
  {
   "cell_type": "code",
   "execution_count": null,
   "id": "d8c8aca4",
   "metadata": {},
   "outputs": [],
   "source": []
  },
  {
   "cell_type": "code",
   "execution_count": null,
   "id": "faf4b4f9",
   "metadata": {},
   "outputs": [],
   "source": []
  },
  {
   "cell_type": "code",
   "execution_count": null,
   "id": "2a8c7bd0",
   "metadata": {},
   "outputs": [],
   "source": []
  }
 ],
 "metadata": {
  "kernelspec": {
   "display_name": "Python 3 (ipykernel)",
   "language": "python",
   "name": "python3"
  },
  "language_info": {
   "codemirror_mode": {
    "name": "ipython",
    "version": 3
   },
   "file_extension": ".py",
   "mimetype": "text/x-python",
   "name": "python",
   "nbconvert_exporter": "python",
   "pygments_lexer": "ipython3",
   "version": "3.10.5"
  }
 },
 "nbformat": 4,
 "nbformat_minor": 5
}

{
 "cells": [
  {
   "cell_type": "code",
   "execution_count": 5,
   "id": "4135e645",
   "metadata": {},
   "outputs": [
    {
     "name": "stdout",
     "output_type": "stream",
     "text": [
      "You got it\n"
     ]
    }
   ],
   "source": [
    "############DEBUGGING#####################\n",
    "# def my_function():\n",
    "#     for i in range(1, 20):\n",
    "#         if i == 20:\n",
    "#             print(\"You got it\")\n",
    "# my_function()\n",
    "\n",
    "def my_function(i):\n",
    "    for i in range(1, 21):\n",
    "        if i == 20:\n",
    "            print(\"You got it\")\n",
    "my_function(22)\n"
   ]
  },
  {
   "cell_type": "code",
   "execution_count": 32,
   "id": "b757d108",
   "metadata": {},
   "outputs": [
    {
     "name": "stdout",
     "output_type": "stream",
     "text": [
      "❺\n"
     ]
    }
   ],
   "source": [
    "# Reproduce the Bug\n",
    "from random import randint\n",
    "dice_imgs = [\"❶\", \"❷\", \"❸\", \"❹\", \"❺\", \"❻\"]\n",
    "dice_num = randint(0, 5) #fixed the index range\n",
    "print(dice_imgs[dice_num])\n"
   ]
  },
  {
   "cell_type": "code",
   "execution_count": 2,
   "id": "8f7c7ce2",
   "metadata": {},
   "outputs": [
    {
     "name": "stdout",
     "output_type": "stream",
     "text": [
      "How old are you?20\n",
      "You can drive at age 20.\n"
     ]
    }
   ],
   "source": [
    "# Fix the Errors\n",
    "age = int(input(\"How old are you?\"))\n",
    "if age > 18:\n",
    "    print(f\"You can drive at age {age}.\")\n",
    "else:\n",
    "    print(\"You cannot drive...\")\n",
    "\n"
   ]
  },
  {
   "cell_type": "code",
   "execution_count": 6,
   "id": "557a806d",
   "metadata": {},
   "outputs": [
    {
     "name": "stdout",
     "output_type": "stream",
     "text": [
      "What's your year of birth?1980\n",
      " You are a millenial. \n"
     ]
    }
   ],
   "source": [
    "# Play Computer\n",
    "year = int(input(\"What's your year of birth?\"))\n",
    "if year >= 1980 and year <= 1994:\n",
    "    print(\" You are a millenial. \")\n",
    "elif year > 1994:\n",
    "    print(\" You are a Gen Z. \")\n",
    "else:\n",
    "    print(\"You are out of range\")\n",
    "\n"
   ]
  },
  {
   "cell_type": "code",
   "execution_count": 5,
   "id": "754d2de6",
   "metadata": {},
   "outputs": [
    {
     "name": "stdout",
     "output_type": "stream",
     "text": [
      "Number of pages: 20\n",
      "Number of words per page: 20\n",
      "400\n"
     ]
    }
   ],
   "source": [
    "#Print is Your Friend\n",
    "pages = 0\n",
    "word_per_page = 0\n",
    "pages = int(input(\"Number of pages: \"))\n",
    "word_per_page = int(input(\"Number of words per page: \"))\n",
    "total_words = int(pages * word_per_page)\n",
    "\n",
    "print(total_words)\n",
    "\n"
   ]
  },
  {
   "cell_type": "code",
   "execution_count": 7,
   "id": "6ba7294b",
   "metadata": {},
   "outputs": [
    {
     "name": "stdout",
     "output_type": "stream",
     "text": [
      "[2, 4, 6, 10, 16, 26]\n"
     ]
    }
   ],
   "source": [
    "#Use a Debugger\n",
    "#https://pythontutor.com/visualize.html#mode=edit\n",
    "def mutate(a_list):\n",
    "    b_list = []\n",
    "    for item in a_list:\n",
    "        new_item = item * 2\n",
    "        b_list.append(new_item)\n",
    "    print(b_list)\n",
    "\n",
    "mutate([1,2,3,5,8,13])"
   ]
  },
  {
   "cell_type": "code",
   "execution_count": 10,
   "id": "29fb9c0e",
   "metadata": {},
   "outputs": [
    {
     "name": "stdout",
     "output_type": "stream",
     "text": [
      "Which number do you want to check?2\n",
      "This is an even number.\n"
     ]
    }
   ],
   "source": [
    "#final debugging tips\n",
    "number = int(input(\"Which number do you want to check?\"))\n",
    "\n",
    "if number % 2 == 0:\n",
    "    print(\"This is an even number.\")\n",
    "else:\n",
    "    print(\"This is an odd number.\")\n",
    "  \n"
   ]
  },
  {
   "cell_type": "code",
   "execution_count": 16,
   "id": "d2f74879",
   "metadata": {},
   "outputs": [
    {
     "name": "stdout",
     "output_type": "stream",
     "text": [
      "Which year do you want to check?2022\n",
      "Not leap year.\n"
     ]
    }
   ],
   "source": [
    "year = int(input(\"Which year do you want to check?\"))\n",
    "if year % 4 == 0:\n",
    "    if year % 100 == 0:\n",
    "        if year % 400 == 0:\n",
    "            print(\"Leap year.\")\n",
    "        else:\n",
    "            print(\"Not leap year.\")\n",
    "    else:\n",
    "        print(\"Leap year.\")\n",
    "else:\n",
    "    print(\"Not leap year.\")\n",
    "#successfully debugged"
   ]
  },
  {
   "cell_type": "code",
   "execution_count": 17,
   "id": "c20fdef2",
   "metadata": {},
   "outputs": [
    {
     "name": "stdout",
     "output_type": "stream",
     "text": [
      "[1]\n",
      "[2]\n",
      "FizzBuzz\n",
      "Fizz\n",
      "[3]\n",
      "[4]\n",
      "FizzBuzz\n",
      "Buzz\n",
      "FizzBuzz\n",
      "Fizz\n",
      "[6]\n",
      "[7]\n",
      "[8]\n",
      "FizzBuzz\n",
      "Fizz\n",
      "[9]\n",
      "FizzBuzz\n",
      "Buzz\n",
      "[11]\n",
      "FizzBuzz\n",
      "Fizz\n",
      "[12]\n",
      "[13]\n",
      "[14]\n",
      "FizzBuzz\n",
      "Fizz\n",
      "Buzz\n",
      "[16]\n",
      "[17]\n",
      "FizzBuzz\n",
      "Fizz\n",
      "[18]\n",
      "[19]\n",
      "FizzBuzz\n",
      "Buzz\n",
      "FizzBuzz\n",
      "Fizz\n",
      "[21]\n",
      "[22]\n",
      "[23]\n",
      "FizzBuzz\n",
      "Fizz\n",
      "[24]\n",
      "FizzBuzz\n",
      "Buzz\n",
      "[26]\n",
      "FizzBuzz\n",
      "Fizz\n",
      "[27]\n",
      "[28]\n",
      "[29]\n",
      "FizzBuzz\n",
      "Fizz\n",
      "Buzz\n",
      "[31]\n",
      "[32]\n",
      "FizzBuzz\n",
      "Fizz\n",
      "[33]\n",
      "[34]\n",
      "FizzBuzz\n",
      "Buzz\n",
      "FizzBuzz\n",
      "Fizz\n",
      "[36]\n",
      "[37]\n",
      "[38]\n",
      "FizzBuzz\n",
      "Fizz\n",
      "[39]\n",
      "FizzBuzz\n",
      "Buzz\n",
      "[41]\n",
      "FizzBuzz\n",
      "Fizz\n",
      "[42]\n",
      "[43]\n",
      "[44]\n",
      "FizzBuzz\n",
      "Fizz\n",
      "Buzz\n",
      "[46]\n",
      "[47]\n",
      "FizzBuzz\n",
      "Fizz\n",
      "[48]\n",
      "[49]\n",
      "FizzBuzz\n",
      "Buzz\n",
      "FizzBuzz\n",
      "Fizz\n",
      "[51]\n",
      "[52]\n",
      "[53]\n",
      "FizzBuzz\n",
      "Fizz\n",
      "[54]\n",
      "FizzBuzz\n",
      "Buzz\n",
      "[56]\n",
      "FizzBuzz\n",
      "Fizz\n",
      "[57]\n",
      "[58]\n",
      "[59]\n",
      "FizzBuzz\n",
      "Fizz\n",
      "Buzz\n",
      "[61]\n",
      "[62]\n",
      "FizzBuzz\n",
      "Fizz\n",
      "[63]\n",
      "[64]\n",
      "FizzBuzz\n",
      "Buzz\n",
      "FizzBuzz\n",
      "Fizz\n",
      "[66]\n",
      "[67]\n",
      "[68]\n",
      "FizzBuzz\n",
      "Fizz\n",
      "[69]\n",
      "FizzBuzz\n",
      "Buzz\n",
      "[71]\n",
      "FizzBuzz\n",
      "Fizz\n",
      "[72]\n",
      "[73]\n",
      "[74]\n",
      "FizzBuzz\n",
      "Fizz\n",
      "Buzz\n",
      "[76]\n",
      "[77]\n",
      "FizzBuzz\n",
      "Fizz\n",
      "[78]\n",
      "[79]\n",
      "FizzBuzz\n",
      "Buzz\n",
      "FizzBuzz\n",
      "Fizz\n",
      "[81]\n",
      "[82]\n",
      "[83]\n",
      "FizzBuzz\n",
      "Fizz\n",
      "[84]\n",
      "FizzBuzz\n",
      "Buzz\n",
      "[86]\n",
      "FizzBuzz\n",
      "Fizz\n",
      "[87]\n",
      "[88]\n",
      "[89]\n",
      "FizzBuzz\n",
      "Fizz\n",
      "Buzz\n",
      "[91]\n",
      "[92]\n",
      "FizzBuzz\n",
      "Fizz\n",
      "[93]\n",
      "[94]\n",
      "FizzBuzz\n",
      "Buzz\n",
      "FizzBuzz\n",
      "Fizz\n",
      "[96]\n",
      "[97]\n",
      "[98]\n",
      "FizzBuzz\n",
      "Fizz\n",
      "[99]\n",
      "FizzBuzz\n",
      "Buzz\n"
     ]
    }
   ],
   "source": [
    "for number in range(1, 101):\n",
    "    if number % 3 == 0 or number % 5 == 0:\n",
    "        print(\"FizzBuzz\")\n",
    "    if number % 3 == 0:\n",
    "        print(\"Fizz\")\n",
    "    if number % 5 == 0:\n",
    "        print(\"Buzz\")\n",
    "    else:\n",
    "        print([number])\n",
    "#successfully debugged"
   ]
  },
  {
   "cell_type": "code",
   "execution_count": null,
   "id": "5f90e5fd",
   "metadata": {},
   "outputs": [],
   "source": []
  }
 ],
 "metadata": {
  "kernelspec": {
   "display_name": "Python 3 (ipykernel)",
   "language": "python",
   "name": "python3"
  },
  "language_info": {
   "codemirror_mode": {
    "name": "ipython",
    "version": 3
   },
   "file_extension": ".py",
   "mimetype": "text/x-python",
   "name": "python",
   "nbconvert_exporter": "python",
   "pygments_lexer": "ipython3",
   "version": "3.10.5"
  }
 },
 "nbformat": 4,
 "nbformat_minor": 5
}

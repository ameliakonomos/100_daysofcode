{
 "cells": [
  {
   "cell_type": "code",
   "execution_count": 2,
   "id": "dd8c0fd2",
   "metadata": {},
   "outputs": [
    {
     "data": {
      "text/plain": [
       "6"
      ]
     },
     "execution_count": 2,
     "metadata": {},
     "output_type": "execute_result"
    }
   ],
   "source": [
    "#functions with outputs \n",
    "def my_func():\n",
    "    result = 3 * 2\n",
    "    return result #return the output\n",
    "my_func() #calls the function"
   ]
  },
  {
   "cell_type": "code",
   "execution_count": 5,
   "id": "90ec6aa1",
   "metadata": {},
   "outputs": [
    {
     "data": {
      "text/plain": [
       "'AmeliaKonomos'"
      ]
     },
     "execution_count": 5,
     "metadata": {},
     "output_type": "execute_result"
    }
   ],
   "source": [
    "#new function \n",
    "def format_name(f_name, l_name):\n",
    "    fi_name = f_name.title()\n",
    "    li_name = l_name.title() #makes every first word capital\n",
    "    return (fi_name + li_name)\n",
    "\n",
    "format_name(\"amelia\", \"konomos\")"
   ]
  },
  {
   "cell_type": "code",
   "execution_count": 20,
   "id": "61c51b8f",
   "metadata": {},
   "outputs": [
    {
     "name": "stdout",
     "output_type": "stream",
     "text": [
      "What is your first name. amelia\n",
      "What is your last name. konomos\n",
      "Output: AmeliaKonomos\n"
     ]
    }
   ],
   "source": [
    "#multiple return values\n",
    "def format_name(f_name, l_name):\n",
    "    \"\"\"our function takes a first and last name and formats it\"\"\"\n",
    "    if f_name == \"\" or l_name == \"\":\n",
    "        return \"Your input was invalid. \" #early return \n",
    "    formated_f_name = f_name.title()\n",
    "    formated_l_name = l_name.title() #makes every first word capital\n",
    "    return f\"Output: {formated_f_name}{formated_l_name}\"\n",
    "\n",
    "\n",
    "print(format_name(input(\"What is your first name. \"),input(\"What is your last name. \")))"
   ]
  },
  {
   "cell_type": "code",
   "execution_count": 17,
   "id": "3a5e0815",
   "metadata": {},
   "outputs": [
    {
     "name": "stdout",
     "output_type": "stream",
     "text": [
      "Enter a year: 2022\n",
      "Enter a month: 9\n",
      "30\n"
     ]
    }
   ],
   "source": [
    "def is_leap(year): #our previous leap year function\n",
    "    if year % 4 == 0:\n",
    "        if year % 100 == 0:\n",
    "            if year % 400 == 0:\n",
    "                return True \n",
    "            else:\n",
    "                return False \n",
    "        else:\n",
    "            return True \n",
    "    else:\n",
    "        return False \n",
    "\n",
    "def days_in_month(year, month):\n",
    "    if month > 12 or month < 1:\n",
    "        return \"Invalid input. \"\n",
    "    month_days = [31, 28, 31, 30, 31, 30, 31, 31, 30, 31, 30, 31]  \n",
    "    if is_leap(year) and month == 2:\n",
    "        return 29 #only 29 days in feb\n",
    "    return month_days[month - 1] #since list starts at 0\n",
    "\n",
    "\n",
    "year = int(input(\"Enter a year: \")) #data gets passed into function\n",
    "month = int(input(\"Enter a month: \"))\n",
    "days = days_in_month(year, month)\n",
    "print(days)\n"
   ]
  },
  {
   "cell_type": "code",
   "execution_count": 19,
   "id": "2608d6c8",
   "metadata": {},
   "outputs": [
    {
     "data": {
      "text/plain": [
       "'our function takes a first and last name and formats it'"
      ]
     },
     "execution_count": 19,
     "metadata": {},
     "output_type": "execute_result"
    }
   ],
   "source": [
    "\"\"\"docstrings\"\"\" \n",
    "\"\"\"our function takes a first and last name and formats it\"\"\""
   ]
  },
  {
   "cell_type": "code",
   "execution_count": 22,
   "id": "2427bf1c",
   "metadata": {},
   "outputs": [
    {
     "name": "stdout",
     "output_type": "stream",
     "text": [
      "\n",
      " _____________________\n",
      "|  _________________  |\n",
      "| | Pythonista   0. | |  .----------------.  .----------------.  .----------------.  .----------------. \n",
      "| |_________________| | | .--------------. || .--------------. || .--------------. || .--------------. |\n",
      "|  ___ ___ ___   ___  | | |     ______   | || |      __      | || |   _____      | || |     ______   | |\n",
      "| | 7 | 8 | 9 | | + | | | |   .' ___  |  | || |     /  \\     | || |  |_   _|     | || |   .' ___  |  | |\n",
      "| |___|___|___| |___| | | |  / .'   \\_|  | || |    / /\\ \\    | || |    | |       | || |  / .'   \\_|  | |\n",
      "| | 4 | 5 | 6 | | - | | | |  | |         | || |   / ____ \\   | || |    | |   _   | || |  | |         | |\n",
      "| |___|___|___| |___| | | |  \\ `.___.'\\  | || | _/ /    \\ \\_ | || |   _| |__/ |  | || |  \\ `.___.'\\  | |\n",
      "| | 1 | 2 | 3 | | x | | | |   `._____.'  | || ||____|  |____|| || |  |________|  | || |   `._____.'  | |\n",
      "| |___|___|___| |___| | | |              | || |              | || |              | || |              | |\n",
      "| | . | 0 | = | | / | | | '--------------' || '--------------' || '--------------' || '--------------' |\n",
      "| |___|___|___| |___| |  '----------------'  '----------------'  '----------------'  '----------------' \n",
      "|_____________________|\n",
      "\n"
     ]
    }
   ],
   "source": [
    "#build a calculator program \n",
    "logo = \"\"\"\n",
    " _____________________\n",
    "|  _________________  |\n",
    "| | Pythonista   0. | |  .----------------.  .----------------.  .----------------.  .----------------. \n",
    "| |_________________| | | .--------------. || .--------------. || .--------------. || .--------------. |\n",
    "|  ___ ___ ___   ___  | | |     ______   | || |      __      | || |   _____      | || |     ______   | |\n",
    "| | 7 | 8 | 9 | | + | | | |   .' ___  |  | || |     /  \\     | || |  |_   _|     | || |   .' ___  |  | |\n",
    "| |___|___|___| |___| | | |  / .'   \\_|  | || |    / /\\ \\    | || |    | |       | || |  / .'   \\_|  | |\n",
    "| | 4 | 5 | 6 | | - | | | |  | |         | || |   / ____ \\   | || |    | |   _   | || |  | |         | |\n",
    "| |___|___|___| |___| | | |  \\ `.___.'\\  | || | _/ /    \\ \\_ | || |   _| |__/ |  | || |  \\ `.___.'\\  | |\n",
    "| | 1 | 2 | 3 | | x | | | |   `._____.'  | || ||____|  |____|| || |  |________|  | || |   `._____.'  | |\n",
    "| |___|___|___| |___| | | |              | || |              | || |              | || |              | |\n",
    "| | . | 0 | = | | / | | | '--------------' || '--------------' || '--------------' || '--------------' |\n",
    "| |___|___|___| |___| |  '----------------'  '----------------'  '----------------'  '----------------' \n",
    "|_____________________|\n",
    "\"\"\"\n",
    "print(logo)"
   ]
  },
  {
   "cell_type": "code",
   "execution_count": 2,
   "id": "37ee59b3",
   "metadata": {},
   "outputs": [
    {
     "name": "stdout",
     "output_type": "stream",
     "text": [
      "What is the first number? 2\n",
      "What is the second number? 3\n",
      "+\n",
      "-\n",
      "*\n",
      "/\n",
      "Pick an operation from the line above: +\n",
      "2+3 = 5\n"
     ]
    }
   ],
   "source": [
    "#calculator with 4 functions inside dictionary \n",
    "def add(n1, n2):\n",
    "    return n1 + n2\n",
    "\n",
    "def multiply(n1, n2):\n",
    "    return n1*n2\n",
    "\n",
    "def divide(n1, n2):\n",
    "    return n1/n2\n",
    "\n",
    "def subtract(n1, n2):\n",
    "    return n1 - n2\n",
    "\n",
    "operations = {\n",
    "    \"+\": add, \n",
    "    \"-\": subtract,\n",
    "    \"*\": multiply,\n",
    "    \"/\": divide\n",
    "}\n",
    "\n",
    "num1 = int(input(\"What is the first number? \"))\n",
    "num2 = int(input(\"What is the second number? \"))\n",
    "\n",
    "\n",
    "for symbol in operations:\n",
    "    print(symbol)\n",
    "    \n",
    "operation_symbol = input(\"Pick an operation from the line above: \")\n",
    "calculation_function = operations[operation_symbol] #based on user choice\n",
    "answer = calculation_function(num1, num2)\n",
    "\n",
    "print(f\"{num1}{operation_symbol}{num2} = {answer}\")\n"
   ]
  },
  {
   "cell_type": "raw",
   "id": "8a692fe2",
   "metadata": {},
   "source": [
    "\n",
    "\n",
    "\n",
    "\n",
    "\n",
    "\n",
    "\n",
    "\n",
    "\n",
    "\n",
    "\n",
    "\n",
    "\n",
    "\n",
    "\n",
    "\n",
    "\n",
    "\n",
    "\n",
    "\n",
    "\n",
    "\n",
    "\n",
    "\n",
    "\n",
    "\n",
    "\n",
    "\n",
    "\n",
    "\n",
    "\n",
    "\n",
    "\n",
    "\n",
    "\n",
    "\n",
    "\n",
    "\n",
    "\n",
    "\n",
    "\n",
    "\n",
    "\n"
   ]
  }
 ],
 "metadata": {
  "kernelspec": {
   "display_name": "Python 3 (ipykernel)",
   "language": "python",
   "name": "python3"
  },
  "language_info": {
   "codemirror_mode": {
    "name": "ipython",
    "version": 3
   },
   "file_extension": ".py",
   "mimetype": "text/x-python",
   "name": "python",
   "nbconvert_exporter": "python",
   "pygments_lexer": "ipython3",
   "version": "3.10.5"
  }
 },
 "nbformat": 4,
 "nbformat_minor": 5
}

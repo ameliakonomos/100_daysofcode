{
 "cells": [
  {
   "cell_type": "code",
   "execution_count": null,
   "id": "a8a1c706",
   "metadata": {},
   "outputs": [
    {
     "name": "stdout",
     "output_type": "stream",
     "text": [
      "What is the first number? 100\n",
      "Pick an operation from the line above: +\n",
      "+\n",
      "-\n",
      "*\n",
      "/\n",
      "What is the next number? 1000\n",
      "100.0+1000.0 = 1100.0\n",
      "Pick another operation: *\n",
      "What is the next number? 1\n",
      "1100.0*1 = 1100.0\n",
      "Type 'y' to continue calculating with 1100.0: , or type 'n' to start a new calculationn\n"
     ]
    }
   ],
   "source": [
    "#calculator with 4 functions inside dictionary \n",
    "def add(n1, n2):\n",
    "    return n1 + n2\n",
    "\n",
    "def multiply(n1, n2):\n",
    "    return n1*n2\n",
    "\n",
    "def divide(n1, n2):\n",
    "    return n1/n2\n",
    "\n",
    "def subtract(n1, n2):\n",
    "    return n1 - n2\n",
    "\n",
    "operations = {\n",
    "    \"+\": add, \n",
    "    \"-\": subtract,\n",
    "    \"*\": multiply,\n",
    "    \"/\": divide\n",
    "}\n",
    "def calculator(): #recursive function\n",
    "    \n",
    "    should_continue = True\n",
    "    while should_continue:\n",
    "\n",
    "        num1 = float(input(\"What is the first number? \"))\n",
    "        operation_symbol = input(\"Pick an operation from the line above: \")\n",
    "\n",
    "        for symbol in operations:\n",
    "            print(symbol)\n",
    "\n",
    "        num2 = float(input(\"What is the next number? \"))\n",
    "        calculation_function = operations[operation_symbol] \n",
    "        answer = calculation_function(num1, num2)\n",
    "\n",
    "        print(f\"{num1}{operation_symbol}{num2} = {answer}\")\n",
    "\n",
    "        operation_symbol = input(\"Pick another operation: \")\n",
    "        num3 = int(input(\"What is the next number? \"))\n",
    "        calculation_function = operations[operation_symbol]\n",
    "        answer = calculation_function(answer, num3)\n",
    "\n",
    "        print(f\"{answer}{operation_symbol}{num3} = {answer}\")\n",
    "        if input(f\"Type 'y' to continue calculating with {answer}: , or type 'n' to start a new calculation\") == 'y':\n",
    "            num1 = answer\n",
    "        else:\n",
    "            should_continue = False\n",
    "            calculator() #restarts entire function with new input\n",
    "\n",
    "\n",
    "calculator()"
   ]
  },
  {
   "cell_type": "code",
   "execution_count": null,
   "id": "82aaa323",
   "metadata": {},
   "outputs": [],
   "source": []
  }
 ],
 "metadata": {
  "kernelspec": {
   "display_name": "Python 3 (ipykernel)",
   "language": "python",
   "name": "python3"
  },
  "language_info": {
   "codemirror_mode": {
    "name": "ipython",
    "version": 3
   },
   "file_extension": ".py",
   "mimetype": "text/x-python",
   "name": "python",
   "nbconvert_exporter": "python",
   "pygments_lexer": "ipython3",
   "version": "3.10.5"
  }
 },
 "nbformat": 4,
 "nbformat_minor": 5
}
